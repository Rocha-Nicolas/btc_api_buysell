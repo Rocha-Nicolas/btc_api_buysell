{
 "cells": [
  {
   "cell_type": "code",
   "execution_count": null,
   "metadata": {},
   "outputs": [],
   "source": [
    "import requests\n",
    "import pandas as pd \n",
    "import numpy as np\n",
    "import matplotlib.pyplot as plt\n",
    "from matplotlib.patches import Patch\n"
   ]
  },
  {
   "cell_type": "code",
   "execution_count": null,
   "metadata": {},
   "outputs": [],
   "source": [
    "#-----Configuración de Activo----\n",
    "\n",
    "#Open Interest limit max 500 , en las velas period es interval\n",
    "symbol= 'BTCUSDT'\n",
    "limit= '500'\n",
    "period= '1h'"
   ]
  },
  {
   "cell_type": "code",
   "execution_count": null,
   "metadata": {},
   "outputs": [],
   "source": [
    "#----Descarga de Datos de Taker Buy Sell Vol Binance-----\n",
    "url = \"https://dapi.binance.com/futures/data/takerBuySellVol\"\n",
    "params = {\n",
    "    \"pair\": \"BTCUSD\",\n",
    "    \"contractType\": \"ALL\",\n",
    "    \"period\": period,\n",
    "    \"limit\": limit\n",
    "}\n",
    "\n",
    "response = requests.get(url, params=params)\n",
    "js = response.json()\n",
    "data_tbsv = pd.DataFrame(js)\n",
    "\n",
    "data_tbsv = data_tbsv.rename(columns={\"timestamp\":\"fecha\"})\n",
    "data_tbsv.drop(['pair','contractType'], axis=1, inplace=True)\n",
    "data_tbsv.set_index('fecha', inplace=True)\n",
    "data_tbsv.index= pd.to_datetime(data_tbsv.index, unit='ms')\n",
    "\n",
    "#Convertir los valores string a numero\n",
    "data_tbsv= data_tbsv.apply(pd.to_numeric)\n",
    "data_tbsv.columns"
   ]
  },
  {
   "cell_type": "code",
   "execution_count": null,
   "metadata": {},
   "outputs": [],
   "source": [
    "#----Descarga datos del Precio de Binance----\n",
    "url=\"https://fapi.binance.com/fapi/v1/klines\"\n",
    "params = {\n",
    "    'symbol': symbol,\n",
    "    'interval': period,\n",
    "    'limit': limit\n",
    "}\n",
    "response = requests.get(url, params= params)\n",
    "js = response.json()\n",
    "\n",
    "#----Organizardatos de Klines Binance---\n",
    "data = pd.DataFrame(js)\n",
    "data = data.rename(columns={0:\"fecha\", 1:\"Open\", 2:\"High\", 3:\"Low\", 4:\"Close\", 5:\"Volume\"})\n",
    "data.drop([6,7,8,9,10,11], axis=1, inplace=True)\n",
    "data.set_index('fecha', inplace=True)\n",
    "data.index= pd.to_datetime(data.index, unit='ms')\n",
    "\n",
    "#Convertir los valores string a numero\n",
    "data= data.apply(pd.to_numeric)\n"
   ]
  },
  {
   "cell_type": "code",
   "execution_count": null,
   "metadata": {},
   "outputs": [],
   "source": [
    "data_tbsv['diff'] = data_tbsv['takerBuyVol'] - data_tbsv['takerSellVol']"
   ]
  },
  {
   "cell_type": "code",
   "execution_count": null,
   "metadata": {},
   "outputs": [],
   "source": [
    "data = data.join(data_tbsv)"
   ]
  },
  {
   "cell_type": "code",
   "execution_count": null,
   "metadata": {},
   "outputs": [],
   "source": [
    "data.drop(['takerBuyVolValue','takerSellVol','takerSellVolValue','takerBuyVol'], axis=1, inplace=True)"
   ]
  },
  {
   "cell_type": "code",
   "execution_count": null,
   "metadata": {},
   "outputs": [],
   "source": [
    "# Utilizando numpy.where() para aplicar una condición y asignar valores\n",
    "data['color'] = np.where(data['diff'] > 0, 'green', 'red')\n",
    "data['diff'] = np.where(data['diff'] < 0, data['diff'] * -1, data['diff'])\n"
   ]
  },
  {
   "cell_type": "code",
   "execution_count": null,
   "metadata": {},
   "outputs": [],
   "source": [
    "#Ultimos 150 datos del DataFrame\n",
    "data = data.iloc[350:]"
   ]
  },
  {
   "cell_type": "code",
   "execution_count": null,
   "metadata": {},
   "outputs": [],
   "source": [
    "# Crear la figura y los ejes del gráfico\n",
    "fig, ax = plt.subplots(figsize=(20, 10))\n",
    "\n",
    "# Crear las barras utilizando los valores de la columna\n",
    "barras = ax.bar(data.index, data['diff'], width=0.01, ec=data['color'])\n",
    "\n",
    "# Crear un segundo eje y\n",
    "ax2 = ax.twinx()\n",
    "\n",
    "# Plotear el precio en el segundo eje y\n",
    "ax2.plot(data.index, data['Close'], color='blue')\n",
    "ax2.set_ylabel('Precio de cierre')\n",
    "\n",
    "# Personalizar el gráfico\n",
    "ax.set_xlabel('Fecha')\n",
    "ax.set_ylabel('Taker Buy/Sell Volume')\n",
    "ax.set_title('API Binance Taker Buy/Sell Volume + Precio')\n",
    "\n",
    "legend_elements = [\n",
    "    Patch(facecolor='red', label='Taker Sell'),\n",
    "    Patch(facecolor='green', label='Taker Buy'),\n",
    "    Patch(facecolor='blue', label='Precio')\n",
    "]\n",
    "\n",
    "# Mostrar el gráfico de barras\n",
    "plt.legend(handles=legend_elements, loc='upper right')\n",
    "plt.show()    "
   ]
  }
 ],
 "metadata": {
  "kernelspec": {
   "display_name": "Python 3",
   "language": "python",
   "name": "python3"
  },
  "language_info": {
   "codemirror_mode": {
    "name": "ipython",
    "version": 3
   },
   "file_extension": ".py",
   "mimetype": "text/x-python",
   "name": "python",
   "nbconvert_exporter": "python",
   "pygments_lexer": "ipython3",
   "version": "3.11.1"
  },
  "orig_nbformat": 4
 },
 "nbformat": 4,
 "nbformat_minor": 2
}
